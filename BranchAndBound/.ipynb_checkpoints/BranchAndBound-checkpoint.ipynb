{
 "cells": [
  {
   "cell_type": "code",
   "execution_count": 1,
   "metadata": {},
   "outputs": [
    {
     "data": {
      "text/html": [
       "<style>.container { width:100% !important; }</style>"
      ],
      "text/plain": [
       "<IPython.core.display.HTML object>"
      ]
     },
     "metadata": {},
     "output_type": "display_data"
    }
   ],
   "source": [
    "from IPython.core.display import display, HTML\n",
    "display(HTML(\"<style>.container { width:100% !important; }</style>\"))"
   ]
  },
  {
   "cell_type": "code",
   "execution_count": 2,
   "metadata": {},
   "outputs": [],
   "source": [
    "import numpy as np"
   ]
  },
  {
   "cell_type": "markdown",
   "metadata": {},
   "source": [
    "<div class=\"alert alert-success\">    \n",
    "    <h1>Problema 1: Assignació de tasques</h1>\n",
    "    <br>\n",
    "    Sigui $A$ una matriu de nombres enters de mida $n\\times n$:\n",
    "    $$A = \\begin{pmatrix}a_{0,0}\\quad \\cdots \\quad a_{0,n}\\\\\n",
    "                         \\vdots\\quad\\quad\\quad\\quad\\vdots\\\\\n",
    "                         a_{n,0}\\quad \\cdots \\quad a_{n,n}\n",
    "         \\end{pmatrix}$$\n",
    "    L'element $a_{i,j}$ correspon al cost d'assignar la tasca $i$ a l'empresa $j$.<br>\n",
    "    Volem trobar el mínim cost d'assignar tasques a empreses amb la condició que totes les tasques han d'estar assignades i les empreses han de fer només una tasca.\n",
    "     \n",
    "</div>"
   ]
  },
  {
   "cell_type": "markdown",
   "metadata": {},
   "source": [
    "## Funcions útils"
   ]
  },
  {
   "cell_type": "code",
   "execution_count": 3,
   "metadata": {},
   "outputs": [],
   "source": [
    "costs = np.array([[11,12,18,40],\n",
    "                  [14,15,13,22],\n",
    "                  [11,17,19,23],\n",
    "                  [17,14,20,28]])"
   ]
  },
  {
   "cell_type": "markdown",
   "metadata": {},
   "source": [
    "####  <u>np.min</u>\n",
    "Ens permet obtenir el mínim de cada columna o fila d'una matriu"
   ]
  },
  {
   "cell_type": "code",
   "execution_count": 4,
   "metadata": {},
   "outputs": [
    {
     "name": "stdout",
     "output_type": "stream",
     "text": [
      "[11 12 13 22]\n",
      "58\n"
     ]
    }
   ],
   "source": [
    "print(costs.min(axis=0)) # Axis=0 indica que volem el mínim de cada columna\n",
    "print(sum(costs.min(axis=0)))"
   ]
  },
  {
   "cell_type": "code",
   "execution_count": 5,
   "metadata": {},
   "outputs": [
    {
     "name": "stdout",
     "output_type": "stream",
     "text": [
      "[11 13 11 14]\n",
      "49\n"
     ]
    }
   ],
   "source": [
    "print(costs.min(axis=1)) # Axis=1 indica que volem el mínim de cada fila\n",
    "print(sum(costs.min(axis=1)))"
   ]
  },
  {
   "cell_type": "markdown",
   "metadata": {},
   "source": [
    "#### <u>np.delete</u>\n",
    "Ens permet eliminar una fila o una columna d'un array de numpy.<br>\n",
    "Observa els exemples:"
   ]
  },
  {
   "cell_type": "code",
   "execution_count": 6,
   "metadata": {},
   "outputs": [
    {
     "name": "stdout",
     "output_type": "stream",
     "text": [
      "[[11 12 18 40]\n",
      " [14 15 13 22]\n",
      " [17 14 20 28]]\n"
     ]
    }
   ],
   "source": [
    "# Axis=0 indica que volem eliminar files. En aquest cas estem eliminant només la fila 2\n",
    "new_costs1 = np.delete(costs, 2, axis=0) \n",
    "print(new_costs1)"
   ]
  },
  {
   "cell_type": "code",
   "execution_count": 7,
   "metadata": {},
   "outputs": [
    {
     "name": "stdout",
     "output_type": "stream",
     "text": [
      "[[11 17 19 23]\n",
      " [17 14 20 28]]\n"
     ]
    }
   ],
   "source": [
    "# Axis=0 indica que volem eliminar files. En aquest cas estem eliminant les files 0 i 1\n",
    "new_costs2 = np.delete(costs, [0,1], axis=0) \n",
    "print(new_costs2)"
   ]
  },
  {
   "cell_type": "code",
   "execution_count": 8,
   "metadata": {},
   "outputs": [
    {
     "name": "stdout",
     "output_type": "stream",
     "text": [
      "[[12 40]\n",
      " [15 22]\n",
      " [17 23]\n",
      " [14 28]]\n"
     ]
    }
   ],
   "source": [
    "# Axis=1 indica que volem eliminar columnes. En aquest cas estem eliminant les columnes 0 i 2\n",
    "new_costs3 = np.delete(costs, [0,2], axis=1)\n",
    "print(new_costs3)"
   ]
  },
  {
   "cell_type": "code",
   "execution_count": 9,
   "metadata": {},
   "outputs": [
    {
     "name": "stdout",
     "output_type": "stream",
     "text": [
      "[[11 17]\n",
      " [17 14]]\n"
     ]
    }
   ],
   "source": [
    "# Podem esborrar files i columnes d'una matriu\n",
    "new_costs4 = np.delete(np.delete(costs, [0,1], axis=0), [2,3], axis=1)\n",
    "print(new_costs4)"
   ]
  },
  {
   "cell_type": "code",
   "execution_count": 10,
   "metadata": {},
   "outputs": [],
   "source": [
    "from queue import PriorityQueue\n",
    "\n",
    "def inf_bound(matrix):\n",
    "    \"\"\"\n",
    "    Calcula la suma del mínim de cada columna\n",
    "    \n",
    "    Params\n",
    "    ======\n",
    "    :matrix: La matriu de costs\n",
    "    \n",
    "    Returns\n",
    "    =======\n",
    "    :inf: La suma del mínim de cada columna\n",
    "    \"\"\"\n",
    "    \n",
    "    # Mínim de cada columna\n",
    "    if len(matrix)==0:\n",
    "        return 0\n",
    "    return sum(matrix.min(axis=0))\n",
    "\n",
    "def sup_bound(matrix):\n",
    "    \"\"\"\n",
    "    Retorna el cost d'una assignació qualsevol.\n",
    "    \n",
    "    Params\n",
    "    ======\n",
    "    :matrix: La matriu de costs\n",
    "    \n",
    "    Returns\n",
    "    =======\n",
    "    :sup: El cost d'una assignació qualsevol. Per exemple, podem retornar la suma de la diagonal de la matriu\n",
    "          que consisteix en assignar la tasca 'i' a l'empresa 'i' on i=0,1,2,3,4...\n",
    "    \"\"\"\n",
    "    \n",
    "    # Assignació qualsevol. En aquest cas sumem la diagonal que consisteix a assignar\n",
    "    # la tasca 'i' a l'empresa 'i' on i=0,1,2...\n",
    "    return sum(matrix.diagonal()) if len(matrix)!=0 else 0\n",
    "\n",
    "def tasks(matrix):\n",
    "    \"\"\"\n",
    "    Troba l'assignació entre tasques i empreses amb cost mínim utilitzant ramificació i poda.\n",
    "    Cada cop que troba una assignació millor ll'imprimeix per pantalla.\n",
    "    \n",
    "    Params\n",
    "    =====\n",
    "    :matrix: La matriu de costs\n",
    "    \"\"\"\n",
    "    \n",
    "    # Cotes inicials\n",
    "    sup = sup_bound(matrix)\n",
    "    inf = inf_bound(matrix)\n",
    "    \n",
    "    # Cua de prioritat. Guardarem quatre elements:\n",
    "    # 1. Prioritat\n",
    "    # 2. Parelles ja assignades (tasca, empresa)\n",
    "    # 3. Tasca que hem d'assignar a continuació (row)\n",
    "    # 4. Empreses ja assignades (col)\n",
    "    pq = PriorityQueue()\n",
    "    pq.put((inf, [], 0, set([])))\n",
    "    \n",
    "    # Iterarem mentre la cua de prioritat no sigui buida\n",
    "    while not pq.empty():\n",
    "        \n",
    "        # Extraiem un element\n",
    "        elem_cota, elem_list, elem_row, elem_cols = pq.get()                \n",
    "            \n",
    "        # Podem assignar la tasca 'elem_row' a qualsevol empresa 'col' que no haguem assignat encara\n",
    "        for col in range(len(matrix)):\n",
    "            if col not in elem_cols:\n",
    "                \n",
    "                # Copiem els originals ja que els modificarem\n",
    "                new_elem_list, new_elem_cols = elem_list.copy(), elem_cols.copy()\n",
    "                \n",
    "                # Afegim els nous elements a la llista de visitats i afegim la parella\n",
    "                new_elem_cols.add(col)                # Afegim l'empresa seleccionada\n",
    "                new_elem_list.append((elem_row, col)) # Afegim una nova parella\n",
    "                new_elem_row = elem_row + 1           # Indiquem que haurem de continuar amb una nova tasca\n",
    "                \n",
    "                # OPCIONAL: Ep! Si hem assignat la penúltima, l'última ja ens ve determinada\n",
    "                if len(new_elem_list) == len(matrix)-1:\n",
    "                    \n",
    "                    # La tasca (erow) serà l'última (longitud de la matriu - 1)\n",
    "                    # L'empresa (ecol) serà la que no estigui dins el conjunt d'empreses assignades\n",
    "                    erow, ecol = len(matrix)-1, list(set(range(len(matrix))) - new_elem_cols)[0]                    \n",
    "                    new_elem_cols.add(ecol)\n",
    "                    new_elem_list.append((erow, ecol))\n",
    "                    new_elem_row += 1\n",
    "                \n",
    "                # Com fem per calcular la cota?\n",
    "                # Eliminem de la matriu les files i columnes que ja haguem usat\n",
    "                matrix_slice = np.delete(matrix, list(range(0,new_elem_row)), 0)  # Files\n",
    "                matrix_slice = np.delete(matrix_slice, list(new_elem_cols), 1)    # Columnes                \n",
    "                \n",
    "                # Calculem la cota amb la suma de parelles assignades + el mínim de la matriu restant\n",
    "                new_elem_cota = sum(matrix[i,j] for i,j in new_elem_list) + inf_bound(matrix_slice)\n",
    "                \n",
    "                # Mirem si és solució. Això passarà si tenim les mateixes parelles dins la llista \n",
    "                # que la mida de la matriu\n",
    "                if len(new_elem_list) == len(matrix):\n",
    "                    \n",
    "                    # En cas que haguem trobat una cota millor, imprimim i actualitzem la cota\n",
    "                    if new_elem_cota < sup:                        \n",
    "                        print(\"Millor solució trobada, cost:\", new_elem_cota)  \n",
    "                        print(\"Actualitzem la cota superior de\", sup, \"a\", new_elem_cota)\n",
    "                        \n",
    "                        sup = new_elem_cota\n",
    "                        \n",
    "                        print(\"Assignacions: \")\n",
    "                        for i, j in new_elem_list:\n",
    "                            print('Tasca',i,'-> Empresa',j)\n",
    "                        print(\"-\"*60)\n",
    "                \n",
    "                # Altrament, només l'afegim si potencialment ens millora la cota\n",
    "                elif new_elem_cota < sup:\n",
    "                    pq.put((new_elem_cota, new_elem_list, new_elem_row, new_elem_cols))"
   ]
  },
  {
   "cell_type": "code",
   "execution_count": 11,
   "metadata": {},
   "outputs": [
    {
     "name": "stdout",
     "output_type": "stream",
     "text": [
      "Matriu de costs:\n",
      "[[11 12 18 40]\n",
      " [14 15 13 22]\n",
      " [11 17 19 23]\n",
      " [17 14 20 28]]\n",
      "\n",
      "Millor solució trobada, cost: 64\n",
      "Actualitzem la cota superior de 73 a 64\n",
      "Assignacions: \n",
      "Tasca 0 -> Empresa 1\n",
      "Tasca 1 -> Empresa 2\n",
      "Tasca 2 -> Empresa 0\n",
      "Tasca 3 -> Empresa 3\n",
      "------------------------------------------------------------\n",
      "Millor solució trobada, cost: 61\n",
      "Actualitzem la cota superior de 64 a 61\n",
      "Assignacions: \n",
      "Tasca 0 -> Empresa 0\n",
      "Tasca 1 -> Empresa 2\n",
      "Tasca 2 -> Empresa 3\n",
      "Tasca 3 -> Empresa 1\n",
      "------------------------------------------------------------\n"
     ]
    }
   ],
   "source": [
    "costs = np.array([[11,12,18,40],\n",
    "                  [14,15,13,22],\n",
    "                  [11,17,19,23],\n",
    "                  [17,14,20,28]])\n",
    "\n",
    "print(\"Matriu de costs:\")\n",
    "print(costs)\n",
    "print()\n",
    "\n",
    "tasks(costs)"
   ]
  },
  {
   "cell_type": "code",
   "execution_count": 12,
   "metadata": {},
   "outputs": [
    {
     "name": "stdout",
     "output_type": "stream",
     "text": [
      "Matriu de costs:\n",
      "[[38 43 49 21 25 26 18 49]\n",
      " [32 48 34 38 29 16 45 44]\n",
      " [45 16 29 25 39 29 32 34]\n",
      " [44 30 41 36 27 34 33 24]\n",
      " [34 43 39 10 23 17 39 23]\n",
      " [26 28 36 45 27 47 36 45]\n",
      " [28 22 42 10 38 19 38 25]\n",
      " [19 36 21 46 13 39 30 24]]\n",
      "\n",
      "Millor solució trobada, cost: 165\n",
      "Actualitzem la cota superior de 283 a 165\n",
      "Assignacions: \n",
      "Tasca 0 -> Empresa 6\n",
      "Tasca 1 -> Empresa 5\n",
      "Tasca 2 -> Empresa 1\n",
      "Tasca 3 -> Empresa 7\n",
      "Tasca 4 -> Empresa 3\n",
      "Tasca 5 -> Empresa 0\n",
      "Tasca 6 -> Empresa 2\n",
      "Tasca 7 -> Empresa 4\n",
      "------------------------------------------------------------\n",
      "Millor solució trobada, cost: 160\n",
      "Actualitzem la cota superior de 165 a 160\n",
      "Assignacions: \n",
      "Tasca 0 -> Empresa 6\n",
      "Tasca 1 -> Empresa 5\n",
      "Tasca 2 -> Empresa 1\n",
      "Tasca 3 -> Empresa 7\n",
      "Tasca 4 -> Empresa 3\n",
      "Tasca 5 -> Empresa 4\n",
      "Tasca 6 -> Empresa 0\n",
      "Tasca 7 -> Empresa 2\n",
      "------------------------------------------------------------\n",
      "Millor solució trobada, cost: 154\n",
      "Actualitzem la cota superior de 160 a 154\n",
      "Assignacions: \n",
      "Tasca 0 -> Empresa 6\n",
      "Tasca 1 -> Empresa 5\n",
      "Tasca 2 -> Empresa 1\n",
      "Tasca 3 -> Empresa 7\n",
      "Tasca 4 -> Empresa 4\n",
      "Tasca 5 -> Empresa 0\n",
      "Tasca 6 -> Empresa 3\n",
      "Tasca 7 -> Empresa 2\n",
      "------------------------------------------------------------\n"
     ]
    }
   ],
   "source": [
    "costs = np.array( [[38, 43, 49, 21, 25, 26, 18, 49],\n",
    "                   [32, 48, 34, 38, 29, 16, 45, 44],\n",
    "                   [45, 16, 29, 25, 39, 29, 32, 34],\n",
    "                   [44, 30, 41, 36, 27, 34, 33, 24],\n",
    "                   [34, 43, 39, 10, 23, 17, 39, 23],\n",
    "                   [26, 28, 36, 45, 27, 47, 36, 45],\n",
    "                   [28, 22, 42, 10, 38, 19, 38, 25],\n",
    "                   [19, 36, 21, 46, 13, 39, 30, 24]])\n",
    "\n",
    "print(\"Matriu de costs:\")\n",
    "print(costs)\n",
    "print()\n",
    "\n",
    "tasks(costs)"
   ]
  },
  {
   "cell_type": "code",
   "execution_count": 13,
   "metadata": {},
   "outputs": [
    {
     "name": "stdout",
     "output_type": "stream",
     "text": [
      "Matriu de costs:\n",
      "[[11 26 28 46 49 18 44 28 28 15]\n",
      " [38 33 26 19 47 17 31 30 11 17]\n",
      " [25 46 41 37 20 31 18 26 17 47]\n",
      " [46 47 21 47 13 16 18 41 44 28]\n",
      " [13 47 34 36 30 25 32 35 18 26]\n",
      " [48 12 32 44 47 48 42 22 41 24]\n",
      " [40 44 41 15 39 28 16 26 17 20]\n",
      " [22 39 19 30 39 41 45 19 21 44]\n",
      " [12 27 33 10 49 30 46 11 12 18]\n",
      " [24 34 38 25 30 36 49 36 16 36]]\n",
      "\n",
      "Millor solució trobada, cost: 168\n",
      "Actualitzem la cota superior de 293 a 168\n",
      "Assignacions: \n",
      "Tasca 0 -> Empresa 9\n",
      "Tasca 1 -> Empresa 5\n",
      "Tasca 2 -> Empresa 8\n",
      "Tasca 3 -> Empresa 4\n",
      "Tasca 4 -> Empresa 0\n",
      "Tasca 5 -> Empresa 1\n",
      "Tasca 6 -> Empresa 6\n",
      "Tasca 7 -> Empresa 2\n",
      "Tasca 8 -> Empresa 3\n",
      "Tasca 9 -> Empresa 7\n",
      "------------------------------------------------------------\n",
      "Millor solució trobada, cost: 158\n",
      "Actualitzem la cota superior de 168 a 158\n",
      "Assignacions: \n",
      "Tasca 0 -> Empresa 9\n",
      "Tasca 1 -> Empresa 5\n",
      "Tasca 2 -> Empresa 8\n",
      "Tasca 3 -> Empresa 4\n",
      "Tasca 4 -> Empresa 0\n",
      "Tasca 5 -> Empresa 1\n",
      "Tasca 6 -> Empresa 6\n",
      "Tasca 7 -> Empresa 2\n",
      "Tasca 8 -> Empresa 7\n",
      "Tasca 9 -> Empresa 3\n",
      "------------------------------------------------------------\n",
      "Millor solució trobada, cost: 149\n",
      "Actualitzem la cota superior de 158 a 149\n",
      "Assignacions: \n",
      "Tasca 0 -> Empresa 9\n",
      "Tasca 1 -> Empresa 5\n",
      "Tasca 2 -> Empresa 6\n",
      "Tasca 3 -> Empresa 4\n",
      "Tasca 4 -> Empresa 0\n",
      "Tasca 5 -> Empresa 1\n",
      "Tasca 6 -> Empresa 3\n",
      "Tasca 7 -> Empresa 2\n",
      "Tasca 8 -> Empresa 7\n",
      "Tasca 9 -> Empresa 8\n",
      "------------------------------------------------------------\n"
     ]
    }
   ],
   "source": [
    "costs = np.random.randint(10,50,(10,10))\n",
    "\n",
    "print(\"Matriu de costs:\")\n",
    "print(costs)\n",
    "print()\n",
    "\n",
    "tasks(costs)"
   ]
  },
  {
   "cell_type": "markdown",
   "metadata": {},
   "source": [
    "<div class=\"alert alert-success\">\n",
    "    <h1>Problema 2: Sliding-Puzzle</h1>\n",
    "    <br>\n",
    "    Donat un taulell de $n\\times n$ de nombres des d'$1$ fins a $n^2-1$ inicialment desordenats, volem trobar el nombre mínim de moviments possibles de manera que els nombres estiguin ordenats en ordre creixent i la casella sense número estigui a l'última posició.\n",
    "</div>"
   ]
  },
  {
   "cell_type": "markdown",
   "metadata": {},
   "source": [
    "<img src=\"https://www.researchgate.net/profile/Ruo-Ando/publication/347300656/figure/fig1/AS:969204928901121@1608087870493/Initial-state-and-goal-state-of-8-puzzle.ppm\" width='25%'/>"
   ]
  },
  {
   "cell_type": "code",
   "execution_count": 37,
   "metadata": {
    "scrolled": true
   },
   "outputs": [
    {
     "name": "stdout",
     "output_type": "stream",
     "text": [
      "Un tauler aleatori:\n",
      "+-----------+\n",
      "|   | 2 | 5 | \n",
      "+-----------+\n",
      "| 1 | 3 | 4 | \n",
      "+-----------+\n",
      "| 8 | 6 | 7 | \n",
      "+-----------+\n",
      "\n"
     ]
    }
   ],
   "source": [
    "from npuzzle import NPuzzle\n",
    "\n",
    "# Inicialitzem un tauler i el barregem\n",
    "board = NPuzzle()\n",
    "board.create_board(n=3, moves=100)\n",
    "\n",
    "print (\"Un tauler aleatori:\")\n",
    "print(board)"
   ]
  },
  {
   "cell_type": "markdown",
   "metadata": {},
   "source": [
    "La funció ``get_state_id`` ens retorna un 'string' amb la configuració del tauler. D'aquesta forma podrem guardar els estats que ja hem visitat per a no repetir-los\n"
   ]
  },
  {
   "cell_type": "code",
   "execution_count": 38,
   "metadata": {},
   "outputs": [
    {
     "data": {
      "text/plain": [
       "'0,2,5,1,3,4,8,6,7'"
      ]
     },
     "execution_count": 38,
     "metadata": {},
     "output_type": "execute_result"
    }
   ],
   "source": [
    "board.get_state_id()"
   ]
  },
  {
   "cell_type": "markdown",
   "metadata": {},
   "source": [
    "Per a cada tauler, podem definir una cota que depèn del nombre de moviments que hem fet fins el moment i un valor optimista calculat com una 'distància' entre el tauler que estem considerant i el tauler objectiu.\n",
    "\n",
    "$$C(X) = g(X) + h(X)$$\n",
    "+ $g(X)$ és el nombre de passos que portem fins el moment.\n",
    "+ $h(X)$ pot ser:\n",
    "    + $h_1(X)$: El nombre de caselles que no estan al seu lloc sense tenir en compte la casella buida (hamming_distance)\n",
    "    + $h_2(X)$: La suma de les distàncies de manhattan de cada casella al seu lloc correcte (manhattan_distance)"
   ]
  },
  {
   "cell_type": "code",
   "execution_count": 39,
   "metadata": {},
   "outputs": [
    {
     "data": {
      "text/plain": [
       "7"
      ]
     },
     "execution_count": 39,
     "metadata": {},
     "output_type": "execute_result"
    }
   ],
   "source": [
    "board.hamming_distance() # h1(X)"
   ]
  },
  {
   "cell_type": "code",
   "execution_count": 40,
   "metadata": {},
   "outputs": [
    {
     "data": {
      "text/plain": [
       "12"
      ]
     },
     "execution_count": 40,
     "metadata": {},
     "output_type": "execute_result"
    }
   ],
   "source": [
    "board.manhattan_distance() # h2(X)"
   ]
  },
  {
   "cell_type": "markdown",
   "metadata": {},
   "source": [
    "Podem demanar quins moviments són valids des d'una configuració del tauler amb la funció ``allowed_moves()``. Un moviment consisteix en 'moure' la casella buida en una de les quatre direccions permeses:<br>\n",
    "+ $L$: Left\n",
    "+ $R$: Right\n",
    "+ $U$: Up\n",
    "+ $D$: Down"
   ]
  },
  {
   "cell_type": "code",
   "execution_count": 41,
   "metadata": {},
   "outputs": [
    {
     "name": "stdout",
     "output_type": "stream",
     "text": [
      "['R', 'D']\n"
     ]
    }
   ],
   "source": [
    "am = board.allowed_moves()\n",
    "print(am)"
   ]
  },
  {
   "cell_type": "markdown",
   "metadata": {},
   "source": [
    "Executem un moviment amb la funció ``move()``"
   ]
  },
  {
   "cell_type": "code",
   "execution_count": 43,
   "metadata": {},
   "outputs": [
    {
     "name": "stdout",
     "output_type": "stream",
     "text": [
      "+-----------+\n",
      "| 2 |   | 5 | \n",
      "+-----------+\n",
      "| 1 | 3 | 4 | \n",
      "+-----------+\n",
      "| 8 | 6 | 7 | \n",
      "+-----------+\n",
      "\n"
     ]
    }
   ],
   "source": [
    "new_board = board.move(am[0])\n",
    "print(new_board)"
   ]
  },
  {
   "cell_type": "markdown",
   "metadata": {},
   "source": [
    "La funció state ens comprova si el nostre estat és un estat solució."
   ]
  },
  {
   "cell_type": "code",
   "execution_count": 44,
   "metadata": {},
   "outputs": [
    {
     "data": {
      "text/plain": [
       "False"
      ]
     },
     "execution_count": 44,
     "metadata": {},
     "output_type": "execute_result"
    }
   ],
   "source": [
    "# Solucionat: True\n",
    "# No solucionat: False\n",
    "new_board.state()"
   ]
  },
  {
   "cell_type": "code",
   "execution_count": 45,
   "metadata": {},
   "outputs": [],
   "source": [
    "import numpy as np\n",
    "\n",
    "def solve_puzzle(board):\n",
    "    \"\"\"\n",
    "    Soluciona el problema del N-Puzzle\n",
    "    \n",
    "    Params\n",
    "    ======\n",
    "    :board: Un objecte de la classe NPuzzle\n",
    "    \n",
    "    Returns\n",
    "    =======\n",
    "    :best_bound: Nombre de passos mínims per transformar el tauler d'entrada en el tauler objectiu\n",
    "    :best_board: El tauler objectiu. Haurien de ser els números ordenats de petit a gran amb la casella buida al final.\n",
    "    :expanded: El nombre de taulers expandits. Cada cop que traiem un tauler de la cua de prioritat, sumem 1.\n",
    "    \"\"\"\n",
    "    \n",
    "    # Millor solució trobada. Inicialment té cota infinit\n",
    "    best_bound = np.inf\n",
    "    best_board = board\n",
    "    \n",
    "    # Guardem en una cua de prioritat els taulells.\n",
    "    # Guardarem les variables:\n",
    "    # 1. Distància mínima (cota inferior) entre el tauler actual i el tauler solució\n",
    "    # 2. Número de passes que duem en aquest tauler, g(X)\n",
    "    # 3. El tauler\n",
    "    pq = PriorityQueue()\n",
    "    pq.put((board.manhattan_distance(), 0, board))\n",
    "    \n",
    "    # Com que els estats poden repetir-se al llarg de l'exploració, guardarem en un 'set' tots els\n",
    "    # estats visitats. Així evidem tornar a visitar estats.\n",
    "    existent_states = set([board.get_state_id()])\n",
    "    expanded = 0\n",
    "    \n",
    "    while not pq.empty():\n",
    "        \n",
    "        # Obtenim un nou element de la cua\n",
    "        curr_bound, curr_steps, curr_board = pq.get()\n",
    "        expanded += 1\n",
    "\n",
    "        # Mirem tots els moviments valids que podem fer des d'aquest tauler\n",
    "        for a_move in curr_board.allowed_moves():\n",
    "            new_board = curr_board.move(a_move)\n",
    "            new_steps = curr_steps + 1\n",
    "            new_bound = new_steps + new_board.manhattan_distance() # g(X) + h(X)\n",
    "        \n",
    "            # Si és un estat solució i ens millora la cota, actualitzem.\n",
    "            if new_board.state():\n",
    "                if new_bound < best_bound:\n",
    "                    best_bound = new_bound\n",
    "                    best_board = new_board\n",
    "            \n",
    "            # En cas de que no sigui solució però ens millori la cota. \n",
    "            elif (new_bound < best_bound) and (new_board.get_state_id() not in existent_states):\n",
    "                existent_states.add(new_board.get_state_id())\n",
    "                pq.put((new_bound,new_steps,new_board))\n",
    "                \n",
    "    return best_bound, best_board, expanded\n",
    "    "
   ]
  },
  {
   "cell_type": "code",
   "execution_count": 46,
   "metadata": {},
   "outputs": [
    {
     "name": "stdout",
     "output_type": "stream",
     "text": [
      "Tauler inicial:\n",
      "+-----------+\n",
      "| 8 | 7 | 5 | \n",
      "+-----------+\n",
      "| 4 |   | 3 | \n",
      "+-----------+\n",
      "| 2 | 6 | 1 | \n",
      "+-----------+\n",
      "\n",
      "Solucionat en 24 passos\n",
      "Taulers expandits: 2240\n",
      "Tauler final:\n",
      "+-----------+\n",
      "| 1 | 2 | 3 | \n",
      "+-----------+\n",
      "| 4 | 5 | 6 | \n",
      "+-----------+\n",
      "| 7 | 8 |   | \n",
      "+-----------+\n",
      "\n"
     ]
    }
   ],
   "source": [
    "board = NPuzzle()\n",
    "board.create_board(moves=100, n=3)\n",
    "print(\"Tauler inicial:\")\n",
    "print(board)\n",
    "distance, final_board, expanded = solve_puzzle(board)\n",
    "print(f\"Solucionat en {distance} passos\")\n",
    "print(f\"Taulers expandits: {expanded}\")\n",
    "print(\"Tauler final:\")\n",
    "print(final_board)"
   ]
  }
 ],
 "metadata": {
  "kernelspec": {
   "display_name": "Python 3 (ipykernel)",
   "language": "python",
   "name": "python3"
  },
  "language_info": {
   "codemirror_mode": {
    "name": "ipython",
    "version": 3
   },
   "file_extension": ".py",
   "mimetype": "text/x-python",
   "name": "python",
   "nbconvert_exporter": "python",
   "pygments_lexer": "ipython3",
   "version": "3.9.7"
  }
 },
 "nbformat": 4,
 "nbformat_minor": 4
}
