{
 "cells": [
  {
   "cell_type": "code",
   "execution_count": 1,
   "id": "7d7b5b5f",
   "metadata": {},
   "outputs": [
    {
     "data": {
      "text/html": [
       "<style>.container { width:100% !important; }</style>"
      ],
      "text/plain": [
       "<IPython.core.display.HTML object>"
      ]
     },
     "metadata": {},
     "output_type": "display_data"
    }
   ],
   "source": [
    "from IPython.core.display import display, HTML\n",
    "display(HTML(\"<style>.container { width:100% !important; }</style>\"))"
   ]
  },
  {
   "cell_type": "markdown",
   "id": "2f1d5e38",
   "metadata": {},
   "source": [
    "# Cicles"
   ]
  },
  {
   "cell_type": "markdown",
   "id": "d90887b9",
   "metadata": {},
   "source": [
    "Donat un graf $G$, un __cicle__ és un conjunt de nodes de $G$ connectats per arestes formant una cadena tancada:\n",
    "<img src=\"https://upload.wikimedia.org/wikipedia/commons/f/f6/Undirected_6_cycle.svg\" alt=\"Cicle\" />"
   ]
  },
  {
   "cell_type": "markdown",
   "id": "d2f1c856",
   "metadata": {},
   "source": [
    "<div class=\"alert alert-success\">\n",
    "<h1>Detectar si tenim un cicle:</h1>\n",
    "\n",
    "</div>"
   ]
  },
  {
   "cell_type": "code",
   "execution_count": 2,
   "id": "8fe54de9",
   "metadata": {},
   "outputs": [],
   "source": [
    "import networkx as nx\n",
    "from matplotlib import pyplot as plt\n",
    "\n",
    "\n",
    "# Observeu que ara el nostre DFS necessita un paràmetre extra: previous_node. \n",
    "# Aquest és el node amb el que cridem el DFS a la iteració següent.\n",
    "def dfs_cycles(G, visited, current_node, previous_node):\n",
    "    # Com sempre, visitem els nodes que no estiguin visitats\n",
    "    if current_node not in visited:\n",
    "        visited.add(current_node)\n",
    "\n",
    "        # Per a cada veí del node actual comprovem si ja ha estat visitat\n",
    "        for nei in G.neighbors(current_node):\n",
    "            \n",
    "            # En el cas que no, seguim explorant amb el DFS.\n",
    "            # Observeu que al cridar la funció, aprofitem per comprovar si ja s'ha trobat un cicle.\n",
    "            # En cas que sigui així, acabem.\n",
    "            if nei not in visited:\n",
    "                if dfs_cycles(G, visited, nei, current_node):\n",
    "                    return True\n",
    "            \n",
    "            # Si el veí ja havia estat visitat, comprovem si es tracta d'un cicle.\n",
    "            # Per fer-ho, s'ha de satisfer que el pare del node actual i el veí no coincideixin.\n",
    "            # Si fóssin el mateix, vol dir que no es un cicle sino que es una aresta que estem\n",
    "            # recorrent en ambdós sentits\n",
    "            elif previous_node != nei:\n",
    "                return True\n",
    "    \n",
    "    # Si no s'ha trobat cap cicle, es retornarà False.\n",
    "    return False\n",
    "        \n",
    "        \n",
    "\n",
    "def cycles(G):\n",
    "    # Triem un node qualsevol (estem suposant que el graf té una sola component connexa)\n",
    "    n = list(G.nodes())[0]\n",
    "    \n",
    "    # Inicialitzem un conjunt on guardem els nodes que ja han estat visitats.\n",
    "    visited = set()\n",
    "    \n",
    "    return dfs_cycles(G, visited, n, None)"
   ]
  },
  {
   "cell_type": "code",
   "execution_count": 3,
   "id": "5fc374e0",
   "metadata": {},
   "outputs": [
    {
     "data": {
      "image/png": "[encoded data removed]",
      "text/plain": [
       "<Figure size 1440x360 with 3 Axes>"
      ]
     },
     "metadata": {},
     "output_type": "display_data"
    }
   ],
   "source": [
    "G1 = nx.Graph()\n",
    "G1.add_edges_from(((1,2), (1,4), (2,1), (2,3), (4,3)))\n",
    "\n",
    "G2 = nx.Graph()\n",
    "G2.add_edges_from(((1,2), (1,3), (2,4), (2,5), (2,6), (3,7), (3,8)))\n",
    "\n",
    "G3 = nx.Graph()\n",
    "G3.add_edges_from(((1,2), (1,4), (2,1), (2,3), (4,3), (4,5), (3,5)))\n",
    "\n",
    "fig, axs = plt.subplots(1,3,figsize=(20,5))\n",
    "nx.draw(G1, with_labels=True, ax=axs[0])\n",
    "axs[0].set_title(f'Cicles: {cycles(G1)}')\n",
    "\n",
    "nx.draw(G2, with_labels=True, ax=axs[1])\n",
    "axs[1].set_title(f'Cicles: {cycles(G2)}')\n",
    "\n",
    "nx.draw(G3, with_labels=True, ax=axs[2])\n",
    "axs[2].set_title(f'Cicles: {cycles(G3)}')\n",
    "\n",
    "plt.show()"
   ]
  },
  {
   "cell_type": "markdown",
   "id": "21508fa7",
   "metadata": {},
   "source": [
    "## Camí més curt entre totes les parelles de nodes\n",
    "\n",
    "<div class=\"alert alert-success\">\n",
    "<h1> Floyd Warshall:</h1>\n",
    "</div>\n"
   ]
  },
  {
   "cell_type": "code",
   "execution_count": 4,
   "id": "135b0070",
   "metadata": {},
   "outputs": [],
   "source": [
    "import numpy as np\n",
    "\n",
    "def floyd_warshall(G):\n",
    "    \n",
    "    # Nombre total de nodes\n",
    "    n = len(G.nodes())\n",
    "    \n",
    "    # Diccionaris de conversió. A cada node li assignem un nombre enter des de 0 fins a n-1\n",
    "    id2index = {k: v for v, k in enumerate(G.nodes())}\n",
    "    index2id = {v: k for v, k in enumerate(G.nodes())}\n",
    "    \n",
    "    # Inicialitzem una matriu de distàncies de valor infinit\n",
    "    dist = np.zeros((n,n))+np.inf\n",
    "\n",
    "    # Recorrem totes les arestes del graf. Modifiquem la matriu inicial amb els pesos de les arestes.\n",
    "    for u,v,p in G.edges(data=True):\n",
    "        dist[id2index[u],id2index[v]] = p['weight']\n",
    "\n",
    "    # La diagonal de la matriu ha de ser zero\n",
    "    for i in range(n):\n",
    "        dist[i,i] = 0\n",
    "    \n",
    "    # Fins aquí hem inicialitzat la matriu. Ara apliquem la segona part de l'algorisme on hem d'anar modificant la matriu.\n",
    "    for k in range(n):\n",
    "        for i in range(n):\n",
    "            for j in range(n):\n",
    "                # Si hem trobat un valor millor, l'actualitzem\n",
    "                if(dist[i,j]>dist[i,k]+dist[k,j]):\n",
    "                    dist[i,j] = dist[i,k]+dist[k,j]\n",
    "                    \n",
    "    return dist, id2index"
   ]
  },
  {
   "cell_type": "code",
   "execution_count": 6,
   "id": "78f95a5c",
   "metadata": {},
   "outputs": [
    {
     "name": "stdout",
     "output_type": "stream",
     "text": [
      "El camí més curt entre 3 i 2 és 1.0\n"
     ]
    },
    {
     "data": {
      "image/png": "[encoded data removed]",
      "text/plain": [
       "<Figure size 432x288 with 1 Axes>"
      ]
     },
     "metadata": {},
     "output_type": "display_data"
    }
   ],
   "source": [
    "G = nx.DiGraph() \n",
    "G.add_weighted_edges_from([(1, 3, -2), (2, 1, 4),\n",
    "                           (2, 3, 3),(4, 2, -1),(3, 4, 2)])\n",
    "\n",
    "\n",
    "pos = nx.planar_layout(G)\n",
    "nx.draw(G,pos,with_labels=True)\n",
    "\n",
    "labels = nx.get_edge_attributes(G,'weight')\n",
    "nx.draw_networkx_edge_labels(G,pos,edge_labels=labels)\n",
    "\n",
    "dist, id2index = floyd_warshall(G)\n",
    "\n",
    "n1, n2 = 3, 2\n",
    "print(f\"El camí més curt entre {n1} i {n2} és {dist[id2index[n1],id2index[n2]]}\")"
   ]
  }
 ],
 "metadata": {
  "kernelspec": {
   "display_name": "Python 3 (ipykernel)",
   "language": "python",
   "name": "python3"
  },
  "language_info": {
   "codemirror_mode": {
    "name": "ipython",
    "version": 3
   },
   "file_extension": ".py",
   "mimetype": "text/x-python",
   "name": "python",
   "nbconvert_exporter": "python",
   "pygments_lexer": "ipython3",
   "version": "3.9.7"
  }
 },
 "nbformat": 4,
 "nbformat_minor": 5
}
