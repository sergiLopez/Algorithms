{
 "cells": [
  {
   "cell_type": "code",
   "execution_count": 1,
   "metadata": {},
   "outputs": [
    {
     "data": {
      "text/html": [
       "<style>.container { width:100% !important; }</style>"
      ],
      "text/plain": [
       "<IPython.core.display.HTML object>"
      ]
     },
     "metadata": {},
     "output_type": "display_data"
    }
   ],
   "source": [
    "from IPython.core.display import display, HTML\n",
    "display(HTML(\"<style>.container { width:100% !important; }</style>\"))"
   ]
  },
  {
   "cell_type": "markdown",
   "metadata": {},
   "source": [
    "# Programació dinàmica vs Recursió"
   ]
  },
  {
   "cell_type": "markdown",
   "metadata": {},
   "source": [
    "Quan tenim un algorisme recursiu que crida múltiples vegades el mateix subproblema, cal veure si hi ha la possibilitat de convertir-ho en un algorisme de programació dinàmica. El cas de <b>Fibonacci</b> és un clar exemple ja que per a calcular el fibonacci d'un número en concret cal haver calculat el fibonnaci dels seus dos números anteriors.\n",
    "\n",
    "Al fer-ho recursivament estarem generant el següent arbre de crides:\n",
    "<img src=\"img/fibonacci.png\">\n",
    "Com podeu observar, moltes de les crides que fem ens les podem estalviar doncs amb calcular un sol cop el fibonacci de cada nombre en tenim suficient. La programació dinàmica ens ajuda en aquest cas."
   ]
  },
  {
   "cell_type": "markdown",
   "metadata": {},
   "source": [
    "<div class=\"alert alert-success\">\n",
    "    <h1>Problema 1.1: Fibonacci recursiu</h1>\n",
    "    <p>\n",
    "        Implementeu la funció <b>fib_rec</b>. Donat un nombre enter positiu o zero, $n\\in\\mathbb{Z}^+$, ha de retornar el nombre de fibonacci, $F(n)$ que li correspon. <br>\n",
    "        Per exemple: <br>\n",
    "        $$F(0)=0, \\quad F(1)=1, \\quad F(2)=1, \\quad F(3)=2, \\quad F(4)=3, \\quad F(5)=5$$\n",
    "    <p>\n",
    "    <p><b>Quina és la complexitat de l'algorisme? (Observeu l'arbre de la imatge anterior)</b></p>\n",
    "    \n",
    "</div>"
   ]
  },
  {
   "cell_type": "code",
   "execution_count": 2,
   "metadata": {},
   "outputs": [],
   "source": [
    "def fib_rec(n):\n",
    "    \"\"\"\n",
    "    Calcula el nombre amb índex 'n' de la seqüència de Fibonacci.\n",
    "    \n",
    "    Params\n",
    "    ======\n",
    "    :n: El nombre de fibonacci que volem calcular.\n",
    "    \n",
    "    Returns\n",
    "    =======\n",
    "    :F(n): El nombre de la seqüència corresponent.\n",
    "    \"\"\"\n",
    "    \n",
    "    if (n==0) or (n==1):\n",
    "        return n\n",
    "    return fib_rec(n-1)+fib_rec(n-2)"
   ]
  },
  {
   "cell_type": "code",
   "execution_count": 3,
   "metadata": {},
   "outputs": [
    {
     "name": "stdout",
     "output_type": "stream",
     "text": [
      "[0, 1, 1, 2, 3, 5, 8, 13, 21, 34, 55, 89, 144, 233, 377, 610, 987, 1597, 2584, 4181]\n"
     ]
    }
   ],
   "source": [
    "print([fib_rec(n) for n in range(20)])"
   ]
  },
  {
   "cell_type": "markdown",
   "metadata": {},
   "source": [
    "<div class=\"alert alert-success\">\n",
    "    <h1>Problema 1.2: Fibonacci amb programació dinàmica (Bottom-Up)</h1>\n",
    "    <p>\n",
    "        Implementeu la funció <b>fib_bottom_up</b>. Seguiu una estratègia de programació dinàmica on aneu emmagatzemant càlculs realitzats prèviament.<br><br> \n",
    "        <b>Quina és la complexitat de l'algorisme?</b>\n",
    "    <p>\n",
    "        \n",
    "        \n",
    "    \n",
    "</div>"
   ]
  },
  {
   "cell_type": "code",
   "execution_count": 4,
   "metadata": {},
   "outputs": [],
   "source": [
    "def fib_bottom_up(n):\n",
    "    \"\"\"\n",
    "    Calcula el nombre amb índex 'n' de la seqüència de Fibonacci.\n",
    "    \n",
    "    Params\n",
    "    ======\n",
    "    :n: El nombre de fibonacci que volem calcular.\n",
    "    \n",
    "    Returns\n",
    "    =======\n",
    "    :F(n): El nombre de la seqüència corresponent.\n",
    "    \"\"\"\n",
    "    \n",
    "    # Emmagatzem en una llista els càlculs previs\n",
    "    # Guardem els dos primers valors 1 i 1\n",
    "    # I inicialitzem la resta de valors a zero\n",
    "    dp = [0, 1] + [0]*(n-1)\n",
    "    \n",
    "    # Anem calculant i afegint el nombre de fibonacci següent a partir dels dos anteriors\n",
    "    for i in range(2,n+1):\n",
    "        dp[i] = dp[i-1]+dp[i-2]\n",
    "    \n",
    "    # Retornem el valor demanat\n",
    "    return dp[n]"
   ]
  },
  {
   "cell_type": "code",
   "execution_count": 5,
   "metadata": {},
   "outputs": [
    {
     "name": "stdout",
     "output_type": "stream",
     "text": [
      "[0, 1, 1, 2, 3, 5, 8, 13, 21, 34, 55, 89, 144, 233, 377, 610, 987, 1597, 2584, 4181]\n"
     ]
    }
   ],
   "source": [
    "print([fib_bottom_up(n) for n in range(20)])"
   ]
  },
  {
   "cell_type": "code",
   "execution_count": 6,
   "metadata": {},
   "outputs": [],
   "source": [
    "def fib_bottom_up_v2(n):\n",
    "    \"\"\"\n",
    "    Calcula el nombre amb índex 'n' de la seqüència de Fibonacci.\n",
    "    \n",
    "    Params\n",
    "    ======\n",
    "    :n: El nombre de fibonacci que volem calcular.\n",
    "    \n",
    "    Returns\n",
    "    =======\n",
    "    :F(n): El nombre de la seqüència corresponent.\n",
    "    \"\"\"\n",
    "    \n",
    "    # Inicialitzem dues variables que ens serviran per a calcular el següent valor\n",
    "    a, b = 0, 1\n",
    "    if (n==0) or (n==1):\n",
    "        return n\n",
    "    \n",
    "    # Usem la doble assignació de python per anar calculant el següent valor a partir dels dos anteriors\n",
    "    for i in range(n-1):\n",
    "        a, b = b, a+b\n",
    "    return b"
   ]
  },
  {
   "cell_type": "code",
   "execution_count": 7,
   "metadata": {},
   "outputs": [
    {
     "name": "stdout",
     "output_type": "stream",
     "text": [
      "[0, 1, 1, 2, 3, 5, 8, 13, 21, 34, 55, 89, 144, 233, 377, 610, 987, 1597, 2584, 4181]\n"
     ]
    }
   ],
   "source": [
    "print([fib_bottom_up_v2(n) for n in range(20)])"
   ]
  },
  {
   "cell_type": "markdown",
   "metadata": {},
   "source": [
    "<div class=\"alert alert-success\">\n",
    "    <h1>Problema 1.3: Fibonacci amb programació dinàmica (Top-Down)</h1>\n",
    "    <p>\n",
    "        Implementeu la funció <b>fib_top_down</b>. Seguiu una estratègia de programació dinàmica utilitzant el mateix esquema que fibonacci recursiu però on aneu emmagatzemant els càlculs realitzats prèviament.\n",
    "    <p>    \n",
    "</div>"
   ]
  },
  {
   "cell_type": "code",
   "execution_count": 8,
   "metadata": {},
   "outputs": [],
   "source": [
    "def fib_top_down(n, dp=None):\n",
    "    \"\"\"\n",
    "    Calcula el nombre amb índex 'n' de la seqüència de Fibonacci.\n",
    "    \n",
    "    Params\n",
    "    ======\n",
    "    :n: El nombre de fibonacci que volem calcular.\n",
    "    \n",
    "    Returns\n",
    "    =======\n",
    "    :F(n): El nombre de la seqüència corresponent.\n",
    "    \"\"\"\n",
    "    \n",
    "    # Inicialització d'un array per a emmagatzemar els valors ja calculats\n",
    "    if dp is None:\n",
    "        dp = [0]*(n+1)\n",
    "        \n",
    "    # Casos base\n",
    "    if (n==0) or (n==1):\n",
    "        return n\n",
    "    \n",
    "    # Cas en que ja hem calculat el valor prèviament\n",
    "    if dp[n] != 0:\n",
    "        return dp[n]\n",
    "    \n",
    "\n",
    "    # Cas on no hem calculat encara el valor previ\n",
    "    dp[n] = fib_top_down(n-1, dp) + fib_top_down(n-2, dp)\n",
    "    \n",
    "    return dp[n]"
   ]
  },
  {
   "cell_type": "code",
   "execution_count": 9,
   "metadata": {},
   "outputs": [
    {
     "name": "stdout",
     "output_type": "stream",
     "text": [
      "[0, 1, 1, 2, 3, 5, 8, 13, 21, 34, 55, 89, 144, 233, 377, 610, 987, 1597, 2584, 4181]\n"
     ]
    }
   ],
   "source": [
    "print([fib_top_down(n) for n in range(20)])"
   ]
  },
  {
   "cell_type": "markdown",
   "metadata": {},
   "source": [
    " <div class=\"alert alert-success\">\n",
    "     <h1>Problema 2: Rod Cutting</h1>  \n",
    "     <p>Volem tallar una barra de N segments de longitud en trossos per maximitzar-ne el seu valor de venta. Cada segment tallat té un preu associat en funció de la seva longitud.<br>\n",
    "     Per exemple, donada una barra de 5 peces de longitud i la taula de preus següent: <br><br>\n",
    "     Long: 1 2 3 4 5<br>\n",
    "     Preu: 1 5 5 6 7<br><br>\n",
    "     Podem decidir\n",
    "     <ul>\n",
    "         <li>no tallar la barra, long=5 i per tant preu=7.\n",
    "         <li>Tallar-la en dos trossos de 1 i 4 i per tant preu=1+6=7\n",
    "         <li>Tallar-la en cinc trossos de 1 i per tant preu=5\n",
    "         <li>...\n",
    "    </ul>             \n",
    "    </p>\n",
    " </div>"
   ]
  },
  {
   "cell_type": "code",
   "execution_count": 11,
   "metadata": {},
   "outputs": [],
   "source": [
    "def rod_cutting_rec(N, prices):\n",
    "    \"\"\"\n",
    "    Algorisme recursiu.\n",
    "    \n",
    "    Params\n",
    "    ======\n",
    "    :N: Un enter amb el nombre de segments de la barra\n",
    "    :prices: Una llista amb els preus de cada longitud de segment.\n",
    "    \n",
    "    Returns\n",
    "    =======\n",
    "    :best: El millor preu de venta de les peces\n",
    "    \"\"\"\n",
    "    \n",
    "    # Casos base\n",
    "    if N==0:\n",
    "        return 0\n",
    "    if N==1:\n",
    "        return prices[N-1]\n",
    "    \n",
    "    # Crida recursiva trobant el màxim dels talls\n",
    "    return max([prices[N-i-1]+rod_cutting_rec(i, prices) for i in range(0, N)])"
   ]
  },
  {
   "cell_type": "code",
   "execution_count": 12,
   "metadata": {},
   "outputs": [
    {
     "data": {
      "text/plain": [
       "11"
      ]
     },
     "execution_count": 12,
     "metadata": {},
     "output_type": "execute_result"
    }
   ],
   "source": [
    "rod_cutting_rec(5, [1,5,5,6,7]) # Retorna 11"
   ]
  },
  {
   "cell_type": "code",
   "execution_count": 15,
   "metadata": {},
   "outputs": [],
   "source": [
    "def rod_cutting_dp_top_down(N, prices, dp=None):\n",
    "    \"\"\"\n",
    "    Algorisme programació dinàmica top down.\n",
    "    \n",
    "    Params\n",
    "    ======\n",
    "    :N: Un enter amb el nombre de segments de la barra\n",
    "    :prices: Una llista amb els preus de cada longitud de segment.\n",
    "    \n",
    "    Returns\n",
    "    =======\n",
    "    :best: El millor preu de venta de les peces\n",
    "    \"\"\"\n",
    "    \n",
    "    # Inicialitzem la memòria\n",
    "    if dp is None:\n",
    "        dp = [0]*(N+1)\n",
    "        \n",
    "    # Casos base\n",
    "    if N==0:\n",
    "        return 0\n",
    "    if N==1:\n",
    "        return prices[0]\n",
    "    \n",
    "    # Aprofitem els càlculs previs\n",
    "    if dp[N]!=0:\n",
    "        return dp[N]\n",
    "    \n",
    "    # Omplim la memòria amb el càlcul recursiu\n",
    "    dp[N] = max([prices[N-i-1]+rod_cutting_dp_top_down(i, prices, dp) for i in range(0, N)])\n",
    "    \n",
    "    return dp[N]"
   ]
  },
  {
   "cell_type": "code",
   "execution_count": 16,
   "metadata": {},
   "outputs": [
    {
     "data": {
      "text/plain": [
       "11"
      ]
     },
     "execution_count": 16,
     "metadata": {},
     "output_type": "execute_result"
    }
   ],
   "source": [
    "rod_cutting_dp_top_down(5, [1,5,5,6,7]) # Retorna 11"
   ]
  },
  {
   "cell_type": "code",
   "execution_count": 33,
   "metadata": {},
   "outputs": [],
   "source": [
    "def rod_cutting_dp_bottom_up(N, prices):\n",
    "    \"\"\"\n",
    "    Algorisme programació dinàmica bottom up.\n",
    "    \n",
    "    Params\n",
    "    ======\n",
    "    :N: Un enter amb el nombre de segments de la barra\n",
    "    :prices: Una llista amb els preus de cada longitud de segment.\n",
    "    \n",
    "    Returns\n",
    "    =======\n",
    "    :best: El millor preu de venta de les peces\n",
    "    \"\"\"\n",
    "    \n",
    "    # Inicialitzem la memòria\n",
    "    dp = [0]*(N+1)\n",
    "    \n",
    "    # Recorrem total la llista resoldrem tots els subproblemes incrementalment\n",
    "    # començant pel cas on només tenim una peça i anant augmentant\n",
    "    for i in range(1,N+1):\n",
    "        max_val = -float('inf')\n",
    "        \n",
    "        # El màxim d'un subcas serà el màxim entre tots els subcasos anteriors.\n",
    "        # Amb l'ajuda d'aquest 'for' seleccionem el millor valor considerant:\n",
    "        # - Venem la peça prices[j]\n",
    "        # - Prenem el millor valor guardat a la taula per a la peça restant, dp[i-j-1]\n",
    "        for j in range(i):\n",
    "            max_val = max(max_val, prices[j] + dp[i-j-1])\n",
    "        \n",
    "        # Assignem el millor valor.\n",
    "        dp[i] = max_val\n",
    "    \n",
    "    print(dp)\n",
    "    return dp[N]"
   ]
  },
  {
   "cell_type": "code",
   "execution_count": 34,
   "metadata": {},
   "outputs": [
    {
     "name": "stdout",
     "output_type": "stream",
     "text": [
      "[0, 1, 5, 6, 10, 11]\n"
     ]
    },
    {
     "data": {
      "text/plain": [
       "11"
      ]
     },
     "execution_count": 34,
     "metadata": {},
     "output_type": "execute_result"
    }
   ],
   "source": [
    "rod_cutting_dp_bottom_up(5,[1,5,5,6,7]) # Retorna 11"
   ]
  }
 ],
 "metadata": {
  "kernelspec": {
   "display_name": "Python 3 (ipykernel)",
   "language": "python",
   "name": "python3"
  },
  "language_info": {
   "codemirror_mode": {
    "name": "ipython",
    "version": 3
   },
   "file_extension": ".py",
   "mimetype": "text/x-python",
   "name": "python",
   "nbconvert_exporter": "python",
   "pygments_lexer": "ipython3",
   "version": "3.9.7"
  }
 },
 "nbformat": 4,
 "nbformat_minor": 4
}
